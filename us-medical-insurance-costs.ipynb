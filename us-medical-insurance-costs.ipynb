{
 "cells": [
  {
   "cell_type": "markdown",
   "metadata": {},
   "source": [
    "# U.S. Medical Insurance Costs\n",
    "## Project Scope\n",
    "* Average age of patients.\n",
    "* Most common region where patients come from.\n",
    "* Relationship between smokers and non-smokers insurance cost.\n",
    "* Relationship between number of children and insurance cost."
   ]
  },
  {
   "cell_type": "code",
   "execution_count": 5,
   "metadata": {},
   "outputs": [],
   "source": [
    "#Importing CSV file into the notebook and sort data into seperate python variables as lists.\n",
    "import csv\n",
    "\n",
    "list_of_ages = []\n",
    "list_of_sex = []\n",
    "list_of_bmi = []\n",
    "list_of_no_children = []\n",
    "list_of_smoker = []\n",
    "list_of_region = []\n",
    "list_of_charges = []\n",
    "\n",
    "with open('insurance.csv', newline = '') as csv_file:\n",
    "    csv_content = csv.DictReader(csv_file)\n",
    "    for row in csv_content:\n",
    "        list_of_ages.append(row['age'])\n",
    "        list_of_sex.append(row['sex'])\n",
    "        list_of_bmi.append(row['bmi'])\n",
    "        list_of_no_children.append(row['children'])\n",
    "        list_of_smoker.append(row['smoker'])\n",
    "        list_of_region.append(row['region'])\n",
    "        list_of_charges.append(row['charges'])"
   ]
  },
  {
   "cell_type": "code",
   "execution_count": 19,
   "metadata": {},
   "outputs": [
    {
     "name": "stdout",
     "output_type": "stream",
     "text": [
      "[0, 1, 3, 0, 0, 0, 1, 3, 2, 0, 0, 0, 0, 0, 0, 1, 1, 0, 0, 0, 0, 1, 0, 1, 2, 3, 0, 2, 1, 2, 0, 0, 5, 0, 1, 0, 3, 0, 1, 0, 0, 2, 1, 2, 1, 0, 2, 0, 0, 1, 0, 2, 1, 0, 3, 2, 2, 2, 1, 2, 3, 4, 1, 1, 0, 0, 2, 1, 0, 3, 0, 5, 3, 1, 2, 0, 1, 0, 0, 0, 1, 0, 1, 4, 2, 2, 0, 0, 0, 0, 0, 1, 3, 2, 2, 1, 3, 0, 0, 0, 0, 0, 0, 3, 1, 1, 1, 2, 0, 0, 1, 2, 0, 0, 3, 0, 0, 1, 0, 2, 2, 0, 0, 1, 3, 0, 0, 0, 2, 2, 0, 0, 2, 0, 0, 0, 0, 0, 3, 0, 2, 1, 2, 2, 3, 3, 3, 1, 1, 1, 1, 0, 3, 0, 1, 0, 0, 0, 0, 3, 0, 0, 1, 2, 0, 4, 5, 3, 1, 3, 0, 0, 0, 1, 0, 0, 2, 1, 2, 3, 0, 0, 3, 0, 2, 3, 2, 3, 1, 2, 0, 0, 0, 1, 0, 0, 0, 2, 0, 0, 0, 1, 0, 0, 0, 1, 0, 2, 0, 1, 1, 4, 2, 1, 2, 2, 0, 0, 1, 0, 1, 0, 3, 0, 0, 3, 0, 0, 1, 2, 1, 3, 0, 1, 2, 2, 0, 2, 0, 1, 2, 1, 1, 3, 0, 0, 0, 0, 1, 1, 2, 2, 2, 3, 0, 3, 0, 0, 4, 0, 0, 1, 3, 0, 3, 3, 1, 3, 1, 1, 1, 2, 2, 1, 0, 2, 2, 0, 2, 1, 1, 3, 1, 1, 0, 1, 2, 0, 1, 3, 0, 1, 2, 0, 3, 0, 0, 1, 3, 1, 3, 3, 2, 2, 2, 2, 2, 1, 0, 2, 0, 0, 3, 0, 0, 0, 0, 0, 0, 1, 1, 4, 0, 0, 0, 1, 1, 2, 1, 0, 1, 0, 0, 0, 2, 0, 0, 1, 1, 1, 0, 0, 0, 0, 4, 3, 2, 1, 1, 0, 0, 0, 0, 0, 0, 0, 3, 3, 0, 0, 2, 1, 0, 1, 2, 1, 3, 2, 2, 3, 0, 0, 1, 2, 0, 0, 3, 0, 3, 1, 2, 0, 0, 2, 2, 0, 0, 2, 0, 3, 4, 0, 1, 1, 2, 0, 3, 0, 2, 0, 0, 1, 0, 3, 0, 2, 0, 1, 3, 1, 0, 1, 2, 5, 0, 1, 0, 2, 1, 0, 0, 0, 1, 0, 2, 5, 1, 0, 1, 3, 0, 2, 0, 0, 1, 3, 0, 3, 5, 0, 1, 0, 0, 1, 1, 0, 0, 0, 0, 1, 4, 1, 0, 0, 2, 0, 2, 0, 0, 3, 3, 0, 2, 0, 0, 1, 1, 2, 1, 1, 0, 0, 0, 0, 3, 1, 0, 0, 0, 0, 3, 2, 0, 1, 3, 0, 3, 0, 0, 1, 0, 0, 0, 0, 4, 0, 2, 2, 2, 0, 0, 0, 1, 0, 1, 3, 1, 2, 0, 0, 1, 0, 0, 0, 1, 0, 1, 2, 1, 0, 0, 0, 0, 0, 1, 0, 2, 1, 1, 0, 1, 0, 2, 0, 0, 1, 3, 2, 1, 0, 3, 2, 0, 0, 0, 2, 0, 2, 0, 0, 0, 0, 0, 2, 0, 2, 1, 0, 3, 0, 2, 0, 0, 1, 2, 0, 1, 2, 5, 2, 0, 1, 2, 1, 2, 0, 0, 1, 1, 0, 1, 0, 2, 1, 0, 1, 3, 1, 0, 1, 0, 1, 2, 1, 0, 1, 2, 1, 2, 2, 0, 0, 0, 3, 0, 0, 0, 0, 2, 2, 1, 2, 0, 3, 0, 1, 0, 2, 0, 0, 1, 4, 1, 0, 0, 0, 3, 1, 0, 0, 1, 0, 0, 2, 1, 0, 1, 2, 0, 4, 5, 3, 0, 3, 2, 3, 1, 3, 0, 0, 2, 1, 0, 2, 0, 2, 1, 2, 1, 4, 3, 1, 1, 0, 0, 2, 1, 2, 0, 1, 3, 0, 0, 0, 2, 0, 3, 3, 3, 2, 1, 0, 2, 0, 1, 2, 2, 0, 1, 1, 0, 1, 1, 0, 1, 0, 2, 1, 0, 2, 0, 0, 0, 1, 1, 2, 0, 3, 3, 0, 1, 2, 2, 0, 0, 0, 1, 1, 2, 0, 0, 3, 0, 0, 1, 3, 1, 1, 0, 1, 3, 1, 3, 1, 3, 1, 0, 2, 3, 2, 2, 0, 0, 0, 0, 1, 2, 0, 1, 0, 0, 0, 0, 0, 4, 2, 3, 0, 3, 0, 2, 1, 1, 0, 2, 0, 1, 1, 0, 2, 3, 2, 0, 0, 2, 3, 2, 0, 3, 0, 3, 0, 1, 1, 1, 3, 0, 0, 3, 0, 0, 0, 0, 0, 2, 0, 2, 1, 0, 0, 1, 0, 1, 0, 0, 0, 1, 0, 0, 1, 3, 3, 2, 2, 2, 0, 0, 3, 1, 0, 1, 0, 0, 2, 0, 2, 2, 1, 3, 1, 0, 0, 2, 0, 1, 2, 0, 0, 2, 0, 0, 0, 2, 0, 0, 0, 1, 1, 0, 0, 0, 2, 0, 2, 3, 0, 0, 0, 1, 0, 2, 3, 2, 0, 0, 2, 0, 1, 0, 3, 0, 1, 0, 1, 3, 0, 1, 5, 1, 2, 3, 1, 0, 3, 4, 1, 0, 0, 0, 1, 0, 4, 0, 2, 0, 0, 2, 1, 0, 0, 0, 0, 3, 0, 0, 2, 3, 1, 3, 0, 1, 0, 3, 1, 2, 0, 0, 0, 0, 1, 0, 0, 1, 0, 0, 2, 2, 1, 0, 1, 1, 1, 5, 0, 2, 0, 2, 5, 2, 0, 0, 1, 0, 0, 0, 1, 2, 1, 0, 3, 0, 2, 1, 2, 1, 1, 1, 1, 1, 1, 1, 0, 1, 3, 2, 1, 2, 1, 2, 5, 3, 0, 0, 0, 0, 0, 0, 1, 3, 0, 1, 0, 3, 1, 5, 1, 3, 1, 0, 0, 1, 2, 2, 1, 3, 3, 3, 0, 3, 0, 2, 0, 0, 0, 1, 2, 2, 3, 2, 1, 0, 2, 4, 1, 0, 0, 1, 2, 3, 2, 0, 3, 1, 1, 1, 0, 1, 0, 0, 2, 1, 0, 0, 0, 0, 3, 2, 1, 0, 2, 0, 0, 0, 0, 1, 2, 0, 1, 1, 0, 1, 0, 1, 3, 0, 0, 0, 0, 0, 1, 0, 1, 1, 3, 4, 1, 2, 0, 1, 1, 1, 0, 0, 2, 0, 1, 1, 0, 0, 3, 2, 1, 1, 1, 2, 5, 0, 0, 1, 0, 0, 0, 3, 0, 4, 4, 2, 0, 0, 1, 2, 3, 1, 0, 0, 0, 0, 2, 1, 3, 1, 3, 3, 3, 0, 1, 5, 2, 1, 3, 0, 2, 3, 1, 1, 0, 0, 2, 1, 0, 5, 2, 0, 0, 0, 3, 1, 0, 0, 0, 1, 3, 0, 2, 2, 3, 0, 0, 1, 0, 0, 0, 3, 1, 4, 3, 0, 2, 0, 0, 1, 2, 1, 0, 1, 0, 0, 2, 2, 1, 1, 2, 0, 2, 2, 0, 1, 1, 0, 0, 1, 0, 0, 1, 1, 2, 3, 0, 1, 0, 2, 1, 1, 0, 0, 3, 0, 0, 1, 2, 2, 2, 0, 1, 3, 1, 2, 2, 1, 1, 1, 2, 0, 2, 1, 0, 0, 2, 1, 3, 1, 2, 0, 0, 1, 1, 2, 2, 0, 0, 3, 0, 3, 0, 2, 0, 0, 0, 3, 1, 2, 2, 3, 0, 0, 5, 3, 4, 0, 1, 0, 0, 0, 4, 0, 0, 3, 1, 3, 0, 0, 1, 1, 1, 2, 0, 0, 0, 0, 3, 1, 0, 5, 1, 0, 0, 0, 0, 1, 2, 0, 2, 0, 1, 1, 0, 0, 1, 2, 1, 2, 0, 0, 3, 0, 1, 0, 2, 2, 1, 0, 3, 1, 0, 2, 0, 0, 4, 0, 2, 1, 0, 1, 2, 3, 1, 0, 0, 4, 2, 3, 0, 0, 2, 1, 0, 0, 1, 2, 2, 2, 0, 3, 3, 0, 0, 0, 0]\n"
     ]
    }
   ],
   "source": [
    "print(list(map(int,list_of_no_children)))"
   ]
  },
  {
   "cell_type": "markdown",
   "metadata": {},
   "source": [
    "## Analysis No.1: Average age of Patients\n",
    "Calculating the avergae age of patients."
   ]
  },
  {
   "cell_type": "code",
   "execution_count": 6,
   "metadata": {},
   "outputs": [
    {
     "name": "stdout",
     "output_type": "stream",
     "text": [
      "39.20702541106129\n"
     ]
    }
   ],
   "source": [
    "#Analysis No. 1: Average age of Patients\n",
    "def average_age(list_of_ages):\n",
    "    total_age = 0\n",
    "\n",
    "    for i in list_of_ages:\n",
    "        total_age += int(i)\n",
    "    \n",
    "    average_age = total_age/len(list_of_ages)\n",
    "    return average_age\n",
    "\n",
    "average_age_patients = average_age(list_of_ages)\n",
    "print(average_age_patients)"
   ]
  },
  {
   "cell_type": "markdown",
   "metadata": {},
   "source": [
    "The average age of patients within the dataset is approximately 39."
   ]
  },
  {
   "cell_type": "markdown",
   "metadata": {},
   "source": [
    "## Analysis No.2: Most common region where patients come from\n",
    "Finding which region majority of the patients within the dataset come from."
   ]
  },
  {
   "cell_type": "code",
   "execution_count": 7,
   "metadata": {},
   "outputs": [
    {
     "name": "stdout",
     "output_type": "stream",
     "text": [
      "The region with the most patients in the dataset is the southwest with 325 patients.\n"
     ]
    }
   ],
   "source": [
    "def region_count(list_of_region):\n",
    "    unique_region = {}\n",
    "    for i in list_of_region:\n",
    "        if i in unique_region.keys():\n",
    "            unique_region[i] = unique_region[i] + 1\n",
    "        else:\n",
    "            unique_region[i] = 1\n",
    "    return unique_region\n",
    "\n",
    "region_count = region_count(list_of_region)\n",
    "print(f\"The region with the most patients in the dataset is the {max(region_count)} with {region_count[max(region_count)]} patients.\")"
   ]
  },
  {
   "cell_type": "markdown",
   "metadata": {},
   "source": [
    "## Analysis No.3: Relationship between smokers and non-smokers insurance cost.\n",
    "Exploring the dataset to see if patients that are smokers have significantly different insurance cost to non-smoking patients."
   ]
  },
  {
   "cell_type": "code",
   "execution_count": 8,
   "metadata": {},
   "outputs": [
    {
     "name": "stdout",
     "output_type": "stream",
     "text": [
      "{'smoker': 32050.23183153285, 'non smoker': 8434.268297856199}\n",
      "The average insurance cost for a smoker is $32050 and for a non smoker it is $8434.\n",
      "This could potentially indicate that smokers have higher insurance premiums. \n",
      "However, other factors could be at play such as BMI, Age, Children and Location which haven't been considered in this analysis.\n"
     ]
    }
   ],
   "source": [
    "def smoker_vs_non_smoker(list_of_smoker, list_of_charges):\n",
    "    smoker_averages_dict = {}\n",
    "    smoker_total_cost = 0\n",
    "    smoker_total_count = 0\n",
    "    non_smoker_total_cost = 0\n",
    "    non_smoker_total_count = 0\n",
    "    for i in range(len(list_of_smoker)):\n",
    "        if list_of_smoker[i] == 'yes':\n",
    "            smoker_total_cost += float(list_of_charges[i])\n",
    "            smoker_total_count += 1\n",
    "        elif list_of_smoker[i] == 'no':\n",
    "            non_smoker_total_cost += float(list_of_charges[i])\n",
    "            non_smoker_total_count += 1\n",
    "        else:\n",
    "            continue\n",
    "    smoker_averages_dict['smoker'] = smoker_total_cost/smoker_total_count\n",
    "    smoker_averages_dict['non smoker'] = non_smoker_total_cost/non_smoker_total_count\n",
    "    return smoker_averages_dict\n",
    "\n",
    "smoker_vs_non_smoker = smoker_vs_non_smoker(list_of_smoker, list_of_charges)\n",
    "print(smoker_vs_non_smoker)\n",
    "print(f\"\"\"The average insurance cost for a smoker is ${round(smoker_vs_non_smoker['smoker'])} and for a non smoker it is ${round(smoker_vs_non_smoker['non smoker'])}.\n",
    "This could potentially indicate that smokers have higher insurance premiums. \n",
    "However, other factors could be at play such as BMI, Age, Children and Location which haven't been considered in this analysis.\"\"\")"
   ]
  },
  {
   "cell_type": "markdown",
   "metadata": {},
   "source": [
    "## Analysis No.4: Relationship between number of children and insurance cost.\n",
    "Exploring the dataset to see how the number of children influences the insurance cost."
   ]
  },
  {
   "cell_type": "code",
   "execution_count": 33,
   "metadata": {},
   "outputs": [
    {
     "name": "stdout",
     "output_type": "stream",
     "text": [
      "{0: 7098069.995338997, 'Count 0': 574, 'Average 0': 12366, 1: 4124899.673449997, 'Count 1': 324, 'Average 1': 12731, 2: 3617655.296149999, 'Count 2': 240, 'Average 2': 15074, 3: 2410784.983589999, 'Count 3': 157, 'Average 3': 15355, 4: 346266.40777999995, 'Count 4': 25, 'Average 4': 13851, 5: 158148.63445, 'Count 5': 18, 'Average 5': 8786}\n",
      "\n",
      "The Average Costs are:\n",
      "0 children: $12366\n",
      "1 child: $12731\n",
      "2 children: $15074\n",
      "3 children: $15355\n",
      "4 children: $13851\n",
      "5 children: $8786\n",
      "\n"
     ]
    }
   ],
   "source": [
    "def children_insurance_cost(list_of_no_children, list_of_charges):\n",
    "    children_average_cost_dict = {}\n",
    "    #Creating a dictionary with keys set to numbers from 0 to the maximum number of children a single patient has within the dataset.\n",
    "    for i in range(max(list(map(int, list_of_no_children))) + 1):\n",
    "        children_average_cost_dict[int(i)] = 0\n",
    "        children_average_cost_dict[f\"Count {i}\"] = 0\n",
    "        children_average_cost_dict[f\"Average {i}\"] = 0\n",
    "    \n",
    "    \n",
    "    #Totalling up the insurance cost per number of children of a patient.\n",
    "    for i in range(len(list(map(int, list_of_no_children)))):\n",
    "        #if list_of_no_children[i] in children_average_cost_dict.keys():\n",
    "        children_average_cost_dict[int(list_of_no_children[i])] += float(list_of_charges[i])\n",
    "        children_average_cost_dict[f\"Count {int(list_of_no_children[i])}\"] += 1\n",
    "        #else:\n",
    "            #continue\n",
    "    \n",
    "    #Averages\n",
    "    for i in range(max(list(map(int, list_of_no_children)))+1):\n",
    "        if not children_average_cost_dict[f\"Count {i}\"] == 0:\n",
    "            children_average_cost_dict[f\"Average {i}\"] = round(children_average_cost_dict[i]/children_average_cost_dict[f\"Count {i}\"])\n",
    "            \n",
    "        else:\n",
    "            continue\n",
    "\n",
    "    return children_average_cost_dict\n",
    "\n",
    "children_insurance_cost = children_insurance_cost(list_of_no_children, list_of_charges)\n",
    "print(children_insurance_cost)\n",
    "print(f\"\"\"\n",
    "The Average Costs are:\n",
    "0 children: ${children_insurance_cost['Average 0']}\n",
    "1 child: ${children_insurance_cost['Average 1']}\n",
    "2 children: ${children_insurance_cost['Average 2']}\n",
    "3 children: ${children_insurance_cost['Average 3']}\n",
    "4 children: ${children_insurance_cost['Average 4']}\n",
    "5 children: ${children_insurance_cost['Average 5']}\n",
    "\"\"\")"
   ]
  },
  {
   "cell_type": "code",
   "execution_count": null,
   "metadata": {},
   "outputs": [],
   "source": []
  }
 ],
 "metadata": {
  "kernelspec": {
   "display_name": "Python 3 (ipykernel)",
   "language": "python",
   "name": "python3"
  },
  "language_info": {
   "codemirror_mode": {
    "name": "ipython",
    "version": 3
   },
   "file_extension": ".py",
   "mimetype": "text/x-python",
   "name": "python",
   "nbconvert_exporter": "python",
   "pygments_lexer": "ipython3",
   "version": "3.9.12"
  }
 },
 "nbformat": 4,
 "nbformat_minor": 4
}
